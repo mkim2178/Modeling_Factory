{
 "cells": [
  {
   "cell_type": "markdown",
   "id": "5e221c7a",
   "metadata": {},
   "source": [
    "# Housing Prices!\n",
    "\n",
    "### Housing prices are all different and depends on various features such as area or number of bedrooms. Let's create a model with using linear regression to predicts housing prices by analyzing different types of features."
   ]
  },
  {
   "cell_type": "code",
   "execution_count": 1,
   "id": "b92b0b76",
   "metadata": {},
   "outputs": [],
   "source": [
    "import pandas as pd\n",
    "import numpy as np\n",
    "import matplotlib.pyplot as plt\n",
    "import seaborn as sns\n",
    "from sklearn.linear_model import LinearRegression"
   ]
  },
  {
   "cell_type": "code",
   "execution_count": 3,
   "id": "361ed211",
   "metadata": {},
   "outputs": [
    {
     "data": {
      "text/html": [
       "<div>\n",
       "<style scoped>\n",
       "    .dataframe tbody tr th:only-of-type {\n",
       "        vertical-align: middle;\n",
       "    }\n",
       "\n",
       "    .dataframe tbody tr th {\n",
       "        vertical-align: top;\n",
       "    }\n",
       "\n",
       "    .dataframe thead th {\n",
       "        text-align: right;\n",
       "    }\n",
       "</style>\n",
       "<table border=\"1\" class=\"dataframe\">\n",
       "  <thead>\n",
       "    <tr style=\"text-align: right;\">\n",
       "      <th></th>\n",
       "      <th>price</th>\n",
       "      <th>area</th>\n",
       "      <th>bedrooms</th>\n",
       "      <th>bathrooms</th>\n",
       "      <th>stories</th>\n",
       "    </tr>\n",
       "  </thead>\n",
       "  <tbody>\n",
       "    <tr>\n",
       "      <th>0</th>\n",
       "      <td>13300000</td>\n",
       "      <td>7420</td>\n",
       "      <td>4</td>\n",
       "      <td>2</td>\n",
       "      <td>3</td>\n",
       "    </tr>\n",
       "    <tr>\n",
       "      <th>1</th>\n",
       "      <td>12250000</td>\n",
       "      <td>8960</td>\n",
       "      <td>4</td>\n",
       "      <td>4</td>\n",
       "      <td>4</td>\n",
       "    </tr>\n",
       "    <tr>\n",
       "      <th>2</th>\n",
       "      <td>12250000</td>\n",
       "      <td>9960</td>\n",
       "      <td>3</td>\n",
       "      <td>2</td>\n",
       "      <td>2</td>\n",
       "    </tr>\n",
       "    <tr>\n",
       "      <th>3</th>\n",
       "      <td>12215000</td>\n",
       "      <td>7500</td>\n",
       "      <td>4</td>\n",
       "      <td>2</td>\n",
       "      <td>2</td>\n",
       "    </tr>\n",
       "    <tr>\n",
       "      <th>4</th>\n",
       "      <td>11410000</td>\n",
       "      <td>7420</td>\n",
       "      <td>4</td>\n",
       "      <td>1</td>\n",
       "      <td>2</td>\n",
       "    </tr>\n",
       "  </tbody>\n",
       "</table>\n",
       "</div>"
      ],
      "text/plain": [
       "      price  area  bedrooms  bathrooms  stories\n",
       "0  13300000  7420         4          2        3\n",
       "1  12250000  8960         4          4        4\n",
       "2  12250000  9960         3          2        2\n",
       "3  12215000  7500         4          2        2\n",
       "4  11410000  7420         4          1        2"
      ]
     },
     "execution_count": 3,
     "metadata": {},
     "output_type": "execute_result"
    }
   ],
   "source": [
    "housing = pd.read_csv(\"Housing.csv\")\n",
    "housing_price_area_story = housing[[\"price\", \"area\", \"bedrooms\", \"bathrooms\", \"stories\"]]\n",
    "housing_price_area_story.head()"
   ]
  },
  {
   "cell_type": "markdown",
   "id": "bd306cf4",
   "metadata": {},
   "source": [
    "### Before creating a model by using simple linear regression or multiple linear regression, let's just practice generating a constant model (always predicts the same constant number; it omits any relationships between specific variables)."
   ]
  },
  {
   "cell_type": "markdown",
   "id": "c0442371",
   "metadata": {},
   "source": [
    "### Model: Constant Model\n",
    "\n",
    "We're using a constant model as a model to predict, our theta hat (predicted value) will be just a constant number (theta_0):\n",
    "\n",
    "$$ \\hat{y} = \\theta_0 $$\n",
    "\n",
    "Our current predicted value is 1 dimentional, we don't have a new input and it will always predict $\\theta_0$."
   ]
  },
  {
   "cell_type": "markdown",
   "id": "53619eeb",
   "metadata": {},
   "source": [
    "### Loss Function: Mean Squared Error\n",
    "\n",
    "We will use the L2 loss (Mean Squared Error) as a loss function and our cost function will be:\n",
    "\n",
    "$$ R(\\theta) = \\frac{1}{n}\\sum_{i=1}^n(y_i - \\hat{y_i})^2 $$\n",
    "\n",
    "$$ since, \\space \\hat{y} = \\theta_0$$\n",
    "\n",
    "$$ R(\\theta) = \\frac{1}{n}\\sum_{i=1}^n(y_i - \\theta_0)^2 $$"
   ]
  },
  {
   "cell_type": "markdown",
   "id": "2b177834",
   "metadata": {},
   "source": [
    "### Fit the Model\n",
    "\n",
    "We now can fit the model by differentiating our cost function by $\\theta_0$ and we should set this equation equal to 0:\n",
    "\n",
    "$$ \\frac{d}{d\\theta}R(\\theta) = \\frac{1}{n}\\sum_{i=1}^n\\frac{d}{d\\theta}(y_i - \\theta_0)^2 $$\n",
    "\n",
    "$$ = \\frac{-2}{n}\\sum_{i=1}^n(y_i - \\theta_0) $$\n",
    "\n",
    "Set this equation to 0:\n",
    "\n",
    "$$ 0 = \\frac{-2}{n}\\sum_{i=1}^n(y_i - \\theta_0) $$\n",
    "\n",
    "get rid of $\\frac{-2}{n}$\n",
    "\n",
    "$$ 0 = \\sum_{i=1}^n(y_i - \\theta_0) $$\n",
    "\n",
    "$$ = (\\sum_{i=1}^ny_i) - (\\sum_{i=1}^n\\theta_0) $$\n",
    "\n",
    "$$ = (\\sum_{i=1}^ny_i) - n \\cdot \\theta_0 $$\n",
    "\n",
    "send $n \\cdot \\theta_0$ to the left side\n",
    "\n",
    "$$ n \\cdot \\theta_0 = \\sum_{i=1}^ny_i $$\n",
    "\n",
    "$$ \\theta_0 = \\frac{1}{n}\\sum_{i=1}^ny_i $$\n",
    "\n",
    "$$ \\theta_0 = \\bar{y} $$\n",
    "\n",
    "We got a $\\bar{y}$ as our optimal parameter for the constant model with using MSE.\n",
    "\n",
    "$$ \\hat{\\theta_0} = \\bar{y} $$"
   ]
  },
  {
   "cell_type": "markdown",
   "id": "d8aea59b",
   "metadata": {},
   "source": [
    "### Evaluate the Constant Model's Performance."
   ]
  },
  {
   "cell_type": "code",
   "execution_count": 5,
   "id": "ede890c9",
   "metadata": {},
   "outputs": [],
   "source": [
    "# get every price\n",
    "prices = housing_price_area_story[\"price\"]"
   ]
  },
  {
   "cell_type": "code",
   "execution_count": null,
   "id": "981cdffc",
   "metadata": {},
   "outputs": [],
   "source": [
    "# \"\"\"\n",
    "# make it work\n",
    "# \"\"\"\n",
    "\n",
    "# def mse_for_constant_model(theta, prices):\n",
    "#     return np.mean(np.array([(price - theta) ** 2 for price in prices]), axis=0)\n",
    "\n",
    "# thetas = np.linspace(1000000, 14000000, 1000)\n",
    "# thetas_with_using_l2_loss = mse_for_constant_model(thetas, prices)\n",
    "\n",
    "# # Plotting the loss surface\n",
    "# plt.plot(thetas, thetas_with_using_l2_loss)\n",
    "# plt.xlabel(r'$\\theta_0$')\n",
    "# plt.ylabel(r'MSE')\n",
    "\n",
    "# # Optimal point\n",
    "# theta_hat = np.mean(prices)\n",
    "# plt.scatter([theta_hat], [mse_for_constant_model(theta_hat, prices)], s=50, label = r\"$\\hat{\\theta}_0$\")\n",
    "# plt.legend();\n",
    "# # plt.show()"
   ]
  }
 ],
 "metadata": {
  "kernelspec": {
   "display_name": ".venv",
   "language": "python",
   "name": "python3"
  },
  "language_info": {
   "codemirror_mode": {
    "name": "ipython",
    "version": 3
   },
   "file_extension": ".py",
   "mimetype": "text/x-python",
   "name": "python",
   "nbconvert_exporter": "python",
   "pygments_lexer": "ipython3",
   "version": "3.13.2"
  }
 },
 "nbformat": 4,
 "nbformat_minor": 5
}
